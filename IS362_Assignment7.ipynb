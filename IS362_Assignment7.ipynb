{
 "cells": [
  {
   "cell_type": "markdown",
   "metadata": {},
   "source": [
    "# IS 362 - Week 7 Assignment\n",
    "Sunah Lee\n",
    "\n",
    "## Movie Ratings\n",
    "Choose six recent popular movies. Ask at least five people that you know (friends, family, classmates,\n",
    "imaginary friends) to rate each of these movies that they have seen on a scale of 1 to 5. "
   ]
  },
  {
   "cell_type": "code",
   "execution_count": 1,
   "metadata": {},
   "outputs": [
    {
     "data": {
      "text/html": [
       "<div>\n",
       "<style scoped>\n",
       "    .dataframe tbody tr th:only-of-type {\n",
       "        vertical-align: middle;\n",
       "    }\n",
       "\n",
       "    .dataframe tbody tr th {\n",
       "        vertical-align: top;\n",
       "    }\n",
       "\n",
       "    .dataframe thead th {\n",
       "        text-align: right;\n",
       "    }\n",
       "</style>\n",
       "<table border=\"1\" class=\"dataframe\">\n",
       "  <thead>\n",
       "    <tr style=\"text-align: right;\">\n",
       "      <th></th>\n",
       "      <th>Parasite</th>\n",
       "      <th>Joker</th>\n",
       "      <th>Toy Story 4</th>\n",
       "      <th>Frozen II</th>\n",
       "      <th>Little Women</th>\n",
       "      <th>The Marriage Story</th>\n",
       "    </tr>\n",
       "  </thead>\n",
       "  <tbody>\n",
       "    <tr>\n",
       "      <td>Hazel</td>\n",
       "      <td>5.0</td>\n",
       "      <td>NaN</td>\n",
       "      <td>3.0</td>\n",
       "      <td>3.0</td>\n",
       "      <td>NaN</td>\n",
       "      <td>NaN</td>\n",
       "    </tr>\n",
       "    <tr>\n",
       "      <td>Mark</td>\n",
       "      <td>4.0</td>\n",
       "      <td>4.0</td>\n",
       "      <td>NaN</td>\n",
       "      <td>4.0</td>\n",
       "      <td>NaN</td>\n",
       "      <td>NaN</td>\n",
       "    </tr>\n",
       "    <tr>\n",
       "      <td>Vivian</td>\n",
       "      <td>5.0</td>\n",
       "      <td>NaN</td>\n",
       "      <td>5.0</td>\n",
       "      <td>NaN</td>\n",
       "      <td>4.0</td>\n",
       "      <td>3.0</td>\n",
       "    </tr>\n",
       "    <tr>\n",
       "      <td>John</td>\n",
       "      <td>5.0</td>\n",
       "      <td>5.0</td>\n",
       "      <td>4.0</td>\n",
       "      <td>4.0</td>\n",
       "      <td>3.0</td>\n",
       "      <td>3.0</td>\n",
       "    </tr>\n",
       "    <tr>\n",
       "      <td>Rachel</td>\n",
       "      <td>NaN</td>\n",
       "      <td>3.0</td>\n",
       "      <td>4.0</td>\n",
       "      <td>4.0</td>\n",
       "      <td>NaN</td>\n",
       "      <td>NaN</td>\n",
       "    </tr>\n",
       "    <tr>\n",
       "      <td>Christine</td>\n",
       "      <td>5.0</td>\n",
       "      <td>4.0</td>\n",
       "      <td>NaN</td>\n",
       "      <td>NaN</td>\n",
       "      <td>3.0</td>\n",
       "      <td>NaN</td>\n",
       "    </tr>\n",
       "  </tbody>\n",
       "</table>\n",
       "</div>"
      ],
      "text/plain": [
       "           Parasite  Joker  Toy Story 4  Frozen II  Little Women  \\\n",
       "Hazel           5.0    NaN          3.0        3.0           NaN   \n",
       "Mark            4.0    4.0          NaN        4.0           NaN   \n",
       "Vivian          5.0    NaN          5.0        NaN           4.0   \n",
       "John            5.0    5.0          4.0        4.0           3.0   \n",
       "Rachel          NaN    3.0          4.0        4.0           NaN   \n",
       "Christine       5.0    4.0          NaN        NaN           3.0   \n",
       "\n",
       "           The Marriage Story  \n",
       "Hazel                     NaN  \n",
       "Mark                      NaN  \n",
       "Vivian                    3.0  \n",
       "John                      3.0  \n",
       "Rachel                    NaN  \n",
       "Christine                 NaN  "
      ]
     },
     "execution_count": 1,
     "metadata": {},
     "output_type": "execute_result"
    }
   ],
   "source": [
    "#Load the ratings by user information that you collected into a pandas dataframe\n",
    "import pandas as pd\n",
    "import numpy as np\n",
    "df = pd.read_csv('Movies.csv', index_col=0)\n",
    "df"
   ]
  },
  {
   "cell_type": "markdown",
   "metadata": {},
   "source": [
    "## Averages"
   ]
  },
  {
   "cell_type": "code",
   "execution_count": 2,
   "metadata": {},
   "outputs": [
    {
     "data": {
      "text/plain": [
       "Hazel        3.666667\n",
       "Mark         4.000000\n",
       "Vivian       4.250000\n",
       "John         4.000000\n",
       "Rachel       3.666667\n",
       "Christine    4.000000\n",
       "dtype: float64"
      ]
     },
     "execution_count": 2,
     "metadata": {},
     "output_type": "execute_result"
    }
   ],
   "source": [
    "#Show the average ratings for each user and each movie\n",
    "average_per_user = df.mean(axis=1)\n",
    "average_per_user"
   ]
  },
  {
   "cell_type": "code",
   "execution_count": 3,
   "metadata": {},
   "outputs": [
    {
     "data": {
      "text/plain": [
       "Parasite              4.800000\n",
       "Joker                 4.000000\n",
       "Toy Story 4           4.000000\n",
       "Frozen II             3.750000\n",
       "Little Women          3.333333\n",
       "The Marriage Story    3.000000\n",
       "dtype: float64"
      ]
     },
     "execution_count": 3,
     "metadata": {},
     "output_type": "execute_result"
    }
   ],
   "source": [
    "average_per_movie = df.mean()\n",
    "average_per_movie"
   ]
  },
  {
   "cell_type": "markdown",
   "metadata": {},
   "source": [
    "## Normalized Database"
   ]
  },
  {
   "cell_type": "code",
   "execution_count": 4,
   "metadata": {
    "scrolled": true
   },
   "outputs": [
    {
     "data": {
      "text/html": [
       "<div>\n",
       "<style scoped>\n",
       "    .dataframe tbody tr th:only-of-type {\n",
       "        vertical-align: middle;\n",
       "    }\n",
       "\n",
       "    .dataframe tbody tr th {\n",
       "        vertical-align: top;\n",
       "    }\n",
       "\n",
       "    .dataframe thead th {\n",
       "        text-align: right;\n",
       "    }\n",
       "</style>\n",
       "<table border=\"1\" class=\"dataframe\">\n",
       "  <thead>\n",
       "    <tr style=\"text-align: right;\">\n",
       "      <th></th>\n",
       "      <th>Parasite</th>\n",
       "      <th>Joker</th>\n",
       "      <th>Toy Story 4</th>\n",
       "      <th>Frozen II</th>\n",
       "      <th>Little Women</th>\n",
       "      <th>The Marriage Story</th>\n",
       "    </tr>\n",
       "  </thead>\n",
       "  <tbody>\n",
       "    <tr>\n",
       "      <td>Hazel</td>\n",
       "      <td>1.0</td>\n",
       "      <td>NaN</td>\n",
       "      <td>0.0</td>\n",
       "      <td>0.0</td>\n",
       "      <td>NaN</td>\n",
       "      <td>NaN</td>\n",
       "    </tr>\n",
       "    <tr>\n",
       "      <td>Mark</td>\n",
       "      <td>0.0</td>\n",
       "      <td>0.5</td>\n",
       "      <td>NaN</td>\n",
       "      <td>1.0</td>\n",
       "      <td>NaN</td>\n",
       "      <td>NaN</td>\n",
       "    </tr>\n",
       "    <tr>\n",
       "      <td>Vivian</td>\n",
       "      <td>1.0</td>\n",
       "      <td>NaN</td>\n",
       "      <td>1.0</td>\n",
       "      <td>NaN</td>\n",
       "      <td>1.0</td>\n",
       "      <td>NaN</td>\n",
       "    </tr>\n",
       "    <tr>\n",
       "      <td>John</td>\n",
       "      <td>1.0</td>\n",
       "      <td>1.0</td>\n",
       "      <td>0.5</td>\n",
       "      <td>1.0</td>\n",
       "      <td>0.0</td>\n",
       "      <td>NaN</td>\n",
       "    </tr>\n",
       "    <tr>\n",
       "      <td>Rachel</td>\n",
       "      <td>NaN</td>\n",
       "      <td>0.0</td>\n",
       "      <td>0.5</td>\n",
       "      <td>1.0</td>\n",
       "      <td>NaN</td>\n",
       "      <td>NaN</td>\n",
       "    </tr>\n",
       "    <tr>\n",
       "      <td>Christine</td>\n",
       "      <td>1.0</td>\n",
       "      <td>0.5</td>\n",
       "      <td>NaN</td>\n",
       "      <td>NaN</td>\n",
       "      <td>0.0</td>\n",
       "      <td>NaN</td>\n",
       "    </tr>\n",
       "  </tbody>\n",
       "</table>\n",
       "</div>"
      ],
      "text/plain": [
       "           Parasite  Joker  Toy Story 4  Frozen II  Little Women  \\\n",
       "Hazel           1.0    NaN          0.0        0.0           NaN   \n",
       "Mark            0.0    0.5          NaN        1.0           NaN   \n",
       "Vivian          1.0    NaN          1.0        NaN           1.0   \n",
       "John            1.0    1.0          0.5        1.0           0.0   \n",
       "Rachel          NaN    0.0          0.5        1.0           NaN   \n",
       "Christine       1.0    0.5          NaN        NaN           0.0   \n",
       "\n",
       "           The Marriage Story  \n",
       "Hazel                     NaN  \n",
       "Mark                      NaN  \n",
       "Vivian                    NaN  \n",
       "John                      NaN  \n",
       "Rachel                    NaN  \n",
       "Christine                 NaN  "
      ]
     },
     "execution_count": 4,
     "metadata": {},
     "output_type": "execute_result"
    }
   ],
   "source": [
    "#Create a new pandas dataframe, with normalized ratings for each user. \n",
    "#Again, show the average ratings for each user and each movie.\n",
    "normalized_df = (df - df.min()) / (df.max() - df.min())\n",
    "normalized_df"
   ]
  },
  {
   "cell_type": "markdown",
   "metadata": {},
   "source": [
    "## Normalized Averages"
   ]
  },
  {
   "cell_type": "code",
   "execution_count": 5,
   "metadata": {
    "scrolled": true
   },
   "outputs": [
    {
     "data": {
      "text/plain": [
       "Hazel        0.333333\n",
       "Mark         0.500000\n",
       "Vivian       1.000000\n",
       "John         0.700000\n",
       "Rachel       0.500000\n",
       "Christine    0.500000\n",
       "dtype: float64"
      ]
     },
     "execution_count": 5,
     "metadata": {},
     "output_type": "execute_result"
    }
   ],
   "source": [
    "avg_normalized_user = normalized_df.mean(axis=1)\n",
    "avg_normalized_user"
   ]
  },
  {
   "cell_type": "code",
   "execution_count": 6,
   "metadata": {},
   "outputs": [
    {
     "data": {
      "text/plain": [
       "Parasite              0.800000\n",
       "Joker                 0.500000\n",
       "Toy Story 4           0.500000\n",
       "Frozen II             0.750000\n",
       "Little Women          0.333333\n",
       "The Marriage Story         NaN\n",
       "dtype: float64"
      ]
     },
     "execution_count": 6,
     "metadata": {},
     "output_type": "execute_result"
    }
   ],
   "source": [
    "avg_normalized_movie = normalized_df.mean()\n",
    "avg_normalized_movie"
   ]
  },
  {
   "cell_type": "markdown",
   "metadata": {},
   "source": [
    "## Provide a text-based conclusion: \n",
    "#### Explain what might be advantages and disadvantages of using normalized ratings instead of the actual ratings\n",
    "\n",
    "Normalization scals all numeric variables in the range 0 to 1. Normalizing is better in data duplication in a bigger data set where all parameters need to have the same positive scale. However, disadvantages include the loss of outliers. In a small sample of movie ratings above, normalization does not provide much use. Especially for data like the ratings for the movie \"The Marriage Story\" above, where it consists of two 3.0 ratings and the max-min is zero, the normalized rating provides no information as to what the actual ratings were.\n"
   ]
  },
  {
   "cell_type": "markdown",
   "metadata": {},
   "source": [
    "## Extra Credit: Standardized Database"
   ]
  },
  {
   "cell_type": "code",
   "execution_count": 7,
   "metadata": {
    "scrolled": true
   },
   "outputs": [
    {
     "data": {
      "text/html": [
       "<div>\n",
       "<style scoped>\n",
       "    .dataframe tbody tr th:only-of-type {\n",
       "        vertical-align: middle;\n",
       "    }\n",
       "\n",
       "    .dataframe tbody tr th {\n",
       "        vertical-align: top;\n",
       "    }\n",
       "\n",
       "    .dataframe thead th {\n",
       "        text-align: right;\n",
       "    }\n",
       "</style>\n",
       "<table border=\"1\" class=\"dataframe\">\n",
       "  <thead>\n",
       "    <tr style=\"text-align: right;\">\n",
       "      <th></th>\n",
       "      <th>Parasite</th>\n",
       "      <th>Joker</th>\n",
       "      <th>Toy Story 4</th>\n",
       "      <th>Frozen II</th>\n",
       "      <th>Little Women</th>\n",
       "      <th>The Marriage Story</th>\n",
       "    </tr>\n",
       "  </thead>\n",
       "  <tbody>\n",
       "    <tr>\n",
       "      <td>Hazel</td>\n",
       "      <td>0.447214</td>\n",
       "      <td>NaN</td>\n",
       "      <td>-1.224745</td>\n",
       "      <td>-1.5</td>\n",
       "      <td>NaN</td>\n",
       "      <td>NaN</td>\n",
       "    </tr>\n",
       "    <tr>\n",
       "      <td>Mark</td>\n",
       "      <td>-1.788854</td>\n",
       "      <td>0.000000</td>\n",
       "      <td>NaN</td>\n",
       "      <td>0.5</td>\n",
       "      <td>NaN</td>\n",
       "      <td>NaN</td>\n",
       "    </tr>\n",
       "    <tr>\n",
       "      <td>Vivian</td>\n",
       "      <td>0.447214</td>\n",
       "      <td>NaN</td>\n",
       "      <td>1.224745</td>\n",
       "      <td>NaN</td>\n",
       "      <td>1.154701</td>\n",
       "      <td>NaN</td>\n",
       "    </tr>\n",
       "    <tr>\n",
       "      <td>John</td>\n",
       "      <td>0.447214</td>\n",
       "      <td>1.224745</td>\n",
       "      <td>0.000000</td>\n",
       "      <td>0.5</td>\n",
       "      <td>-0.577350</td>\n",
       "      <td>NaN</td>\n",
       "    </tr>\n",
       "    <tr>\n",
       "      <td>Rachel</td>\n",
       "      <td>NaN</td>\n",
       "      <td>-1.224745</td>\n",
       "      <td>0.000000</td>\n",
       "      <td>0.5</td>\n",
       "      <td>NaN</td>\n",
       "      <td>NaN</td>\n",
       "    </tr>\n",
       "    <tr>\n",
       "      <td>Christine</td>\n",
       "      <td>0.447214</td>\n",
       "      <td>0.000000</td>\n",
       "      <td>NaN</td>\n",
       "      <td>NaN</td>\n",
       "      <td>-0.577350</td>\n",
       "      <td>NaN</td>\n",
       "    </tr>\n",
       "  </tbody>\n",
       "</table>\n",
       "</div>"
      ],
      "text/plain": [
       "           Parasite     Joker  Toy Story 4  Frozen II  Little Women  \\\n",
       "Hazel      0.447214       NaN    -1.224745       -1.5           NaN   \n",
       "Mark      -1.788854  0.000000          NaN        0.5           NaN   \n",
       "Vivian     0.447214       NaN     1.224745        NaN      1.154701   \n",
       "John       0.447214  1.224745     0.000000        0.5     -0.577350   \n",
       "Rachel          NaN -1.224745     0.000000        0.5           NaN   \n",
       "Christine  0.447214  0.000000          NaN        NaN     -0.577350   \n",
       "\n",
       "           The Marriage Story  \n",
       "Hazel                     NaN  \n",
       "Mark                      NaN  \n",
       "Vivian                    NaN  \n",
       "John                      NaN  \n",
       "Rachel                    NaN  \n",
       "Christine                 NaN  "
      ]
     },
     "execution_count": 7,
     "metadata": {},
     "output_type": "execute_result"
    }
   ],
   "source": [
    "#Create another new pandas dataframe, with standardized ratings for each user.\n",
    "#Once again, show the average ratings for each user and each movie\n",
    "standardized_ratings = (df-df.mean()) / df.std()\n",
    "standardized_ratings"
   ]
  },
  {
   "cell_type": "markdown",
   "metadata": {},
   "source": [
    "### Standardized Averages"
   ]
  },
  {
   "cell_type": "code",
   "execution_count": 8,
   "metadata": {},
   "outputs": [
    {
     "data": {
      "text/plain": [
       "Hazel       -0.759177\n",
       "Mark        -0.429618\n",
       "Vivian       0.942220\n",
       "John         0.318922\n",
       "Rachel      -0.241582\n",
       "Christine   -0.043379\n",
       "dtype: float64"
      ]
     },
     "execution_count": 8,
     "metadata": {},
     "output_type": "execute_result"
    }
   ],
   "source": [
    "#Average standardized ratings for each user.\n",
    "avg_standardized_user = standardized_ratings.mean(axis=1)\n",
    "avg_standardized_user"
   ]
  },
  {
   "cell_type": "code",
   "execution_count": 9,
   "metadata": {},
   "outputs": [
    {
     "data": {
      "text/plain": [
       "Parasite              4.218847e-16\n",
       "Joker                 0.000000e+00\n",
       "Toy Story 4           0.000000e+00\n",
       "Frozen II             0.000000e+00\n",
       "Little Women         -2.960595e-16\n",
       "The Marriage Story             NaN\n",
       "dtype: float64"
      ]
     },
     "execution_count": 9,
     "metadata": {},
     "output_type": "execute_result"
    }
   ],
   "source": [
    "#Average standardized ratings for each movie.\n",
    "avg_standardized_movie = standardized_ratings.mean()\n",
    "avg_standardized_movie"
   ]
  }
 ],
 "metadata": {
  "kernelspec": {
   "display_name": "Python 3",
   "language": "python",
   "name": "python3"
  },
  "language_info": {
   "codemirror_mode": {
    "name": "ipython",
    "version": 3
   },
   "file_extension": ".py",
   "mimetype": "text/x-python",
   "name": "python",
   "nbconvert_exporter": "python",
   "pygments_lexer": "ipython3",
   "version": "3.7.4"
  }
 },
 "nbformat": 4,
 "nbformat_minor": 2
}
